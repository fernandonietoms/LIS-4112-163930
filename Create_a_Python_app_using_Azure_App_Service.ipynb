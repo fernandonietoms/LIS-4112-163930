{
  "nbformat": 4,
  "nbformat_minor": 0,
  "metadata": {
    "colab": {
      "name": "Create a Python app using Azure App Service.ipynb",
      "provenance": [],
      "collapsed_sections": [],
      "include_colab_link": true
    },
    "kernelspec": {
      "name": "python3",
      "display_name": "Python 3"
    },
    "language_info": {
      "name": "python"
    }
  },
  "cells": [
    {
      "cell_type": "markdown",
      "metadata": {
        "id": "view-in-github",
        "colab_type": "text"
      },
      "source": [
        "<a href=\"https://colab.research.google.com/github/fernandonietoms/LIS-4112-163930/blob/main/Create_a_Python_app_using_Azure_App_Service.ipynb\" target=\"_parent\"><img src=\"https://colab.research.google.com/assets/colab-badge.svg\" alt=\"Open In Colab\"/></a>"
      ]
    },
    {
      "cell_type": "markdown",
      "source": [
        "# Create a Python app using Azure App Service\n",
        "\n",
        "See [original instructions](https://docs.microsoft.com/en-us/azure/app-service/quickstart-python?tabs=bash&pivots=python-framework-flask) for more information\n",
        "\n"
      ],
      "metadata": {
        "id": "TENHX_hPG5ks"
      }
    },
    {
      "cell_type": "markdown",
      "source": [
        "# Environment Setup"
      ],
      "metadata": {
        "id": "wB1jHNX1H5bT"
      }
    },
    {
      "cell_type": "markdown",
      "source": [
        "Install the Azure CLI"
      ],
      "metadata": {
        "id": "vF31S2HlbLCj"
      }
    },
    {
      "cell_type": "code",
      "execution_count": 1,
      "metadata": {
        "id": "9bsZm5jAajlD",
        "outputId": "6958dfdc-e8ed-4048-dd71-fe20087bb8f3",
        "colab": {
          "base_uri": "https://localhost:8080/"
        }
      },
      "outputs": [
        {
          "output_type": "stream",
          "name": "stdout",
          "text": [
            "\r0% [Working]\r            \rGet:1 https://cloud.r-project.org/bin/linux/ubuntu bionic-cran40/ InRelease [3,626 B]\n",
            "Ign:2 https://developer.download.nvidia.com/compute/cuda/repos/ubuntu1804/x86_64  InRelease\n",
            "Ign:3 https://developer.download.nvidia.com/compute/machine-learning/repos/ubuntu1804/x86_64  InRelease\n",
            "Get:4 https://cloud.r-project.org/bin/linux/ubuntu bionic-cran40/ Packages [76.0 kB]\n",
            "Get:5 https://developer.download.nvidia.com/compute/cuda/repos/ubuntu1804/x86_64  Release [696 B]\n",
            "Hit:6 https://developer.download.nvidia.com/compute/machine-learning/repos/ubuntu1804/x86_64  Release\n",
            "Get:7 https://developer.download.nvidia.com/compute/cuda/repos/ubuntu1804/x86_64  Release.gpg [836 B]\n",
            "Hit:8 http://archive.ubuntu.com/ubuntu bionic InRelease\n",
            "Get:9 http://security.ubuntu.com/ubuntu bionic-security InRelease [88.7 kB]\n",
            "Get:11 http://ppa.launchpad.net/c2d4u.team/c2d4u4.0+/ubuntu bionic InRelease [15.9 kB]\n",
            "Get:12 http://archive.ubuntu.com/ubuntu bionic-updates InRelease [88.7 kB]\n",
            "Get:13 https://developer.download.nvidia.com/compute/cuda/repos/ubuntu1804/x86_64  Packages [872 kB]\n",
            "Hit:14 http://ppa.launchpad.net/cran/libgit2/ubuntu bionic InRelease\n",
            "Get:15 http://archive.ubuntu.com/ubuntu bionic-backports InRelease [74.6 kB]\n",
            "Get:16 http://security.ubuntu.com/ubuntu bionic-security/restricted amd64 Packages [738 kB]\n",
            "Get:17 http://ppa.launchpad.net/deadsnakes/ppa/ubuntu bionic InRelease [15.9 kB]\n",
            "Get:18 http://archive.ubuntu.com/ubuntu bionic-updates/universe amd64 Packages [2,242 kB]\n",
            "Get:19 http://security.ubuntu.com/ubuntu bionic-security/universe amd64 Packages [1,463 kB]\n",
            "Hit:20 http://ppa.launchpad.net/graphics-drivers/ppa/ubuntu bionic InRelease\n",
            "Get:21 http://security.ubuntu.com/ubuntu bionic-security/main amd64 Packages [2,516 kB]\n",
            "Get:22 http://ppa.launchpad.net/c2d4u.team/c2d4u4.0+/ubuntu bionic/main Sources [1,823 kB]\n",
            "Get:23 http://archive.ubuntu.com/ubuntu bionic-updates/main amd64 Packages [2,954 kB]\n",
            "Get:24 http://archive.ubuntu.com/ubuntu bionic-updates/restricted amd64 Packages [771 kB]\n",
            "Get:25 http://ppa.launchpad.net/c2d4u.team/c2d4u4.0+/ubuntu bionic/main amd64 Packages [934 kB]\n",
            "Get:26 http://ppa.launchpad.net/deadsnakes/ppa/ubuntu bionic/main amd64 Packages [45.3 kB]\n",
            "Fetched 14.7 MB in 8s (1,893 kB/s)\n",
            "Reading package lists... Done\n",
            "Reading package lists... Done\n",
            "Building dependency tree       \n",
            "Reading state information... Done\n",
            "lsb-release is already the newest version (9.20170808ubuntu1).\n",
            "lsb-release set to manually installed.\n",
            "curl is already the newest version (7.58.0-2ubuntu3.16).\n",
            "gnupg is already the newest version (2.2.4-1ubuntu1.4).\n",
            "gnupg set to manually installed.\n",
            "The following NEW packages will be installed:\n",
            "  apt-transport-https\n",
            "0 upgraded, 1 newly installed, 0 to remove and 62 not upgraded.\n",
            "Need to get 4,348 B of archives.\n",
            "After this operation, 154 kB of additional disk space will be used.\n",
            "Get:1 http://archive.ubuntu.com/ubuntu bionic-updates/universe amd64 apt-transport-https all 1.6.14 [4,348 B]\n",
            "Fetched 4,348 B in 1s (5,951 B/s)\n",
            "Selecting previously unselected package apt-transport-https.\n",
            "(Reading database ... 155229 files and directories currently installed.)\n",
            "Preparing to unpack .../apt-transport-https_1.6.14_all.deb ...\n",
            "Unpacking apt-transport-https (1.6.14) ...\n",
            "Setting up apt-transport-https (1.6.14) ...\n",
            "Get:1 https://packages.microsoft.com/repos/azure-cli bionic InRelease [3,964 B]\n",
            "Hit:2 https://cloud.r-project.org/bin/linux/ubuntu bionic-cran40/ InRelease\n",
            "Ign:3 https://developer.download.nvidia.com/compute/cuda/repos/ubuntu1804/x86_64  InRelease\n",
            "Get:4 https://packages.microsoft.com/repos/azure-cli bionic/main amd64 Packages [16.7 kB]\n",
            "Hit:5 http://security.ubuntu.com/ubuntu bionic-security InRelease\n",
            "Ign:6 https://developer.download.nvidia.com/compute/machine-learning/repos/ubuntu1804/x86_64  InRelease\n",
            "Hit:7 https://developer.download.nvidia.com/compute/cuda/repos/ubuntu1804/x86_64  Release\n",
            "Hit:8 https://developer.download.nvidia.com/compute/machine-learning/repos/ubuntu1804/x86_64  Release\n",
            "Hit:9 http://archive.ubuntu.com/ubuntu bionic InRelease\n",
            "Hit:10 http://ppa.launchpad.net/c2d4u.team/c2d4u4.0+/ubuntu bionic InRelease\n",
            "Hit:11 http://archive.ubuntu.com/ubuntu bionic-updates InRelease\n",
            "Hit:13 http://archive.ubuntu.com/ubuntu bionic-backports InRelease\n",
            "Hit:14 http://ppa.launchpad.net/cran/libgit2/ubuntu bionic InRelease\n",
            "Hit:16 http://ppa.launchpad.net/deadsnakes/ppa/ubuntu bionic InRelease\n",
            "Hit:17 http://ppa.launchpad.net/graphics-drivers/ppa/ubuntu bionic InRelease\n",
            "Fetched 20.7 kB in 3s (8,054 B/s)\n",
            "Reading package lists... Done\n",
            "Reading package lists... Done\n",
            "Building dependency tree       \n",
            "Reading state information... Done\n",
            "The following NEW packages will be installed:\n",
            "  azure-cli\n",
            "0 upgraded, 1 newly installed, 0 to remove and 62 not upgraded.\n",
            "Need to get 65.4 MB of archives.\n",
            "After this operation, 1,032 MB of additional disk space will be used.\n",
            "Get:1 https://packages.microsoft.com/repos/azure-cli bionic/main amd64 azure-cli all 2.32.0-1~bionic [65.4 MB]\n",
            "Fetched 65.4 MB in 1s (49.7 MB/s)\n",
            "Selecting previously unselected package azure-cli.\n",
            "(Reading database ... 155233 files and directories currently installed.)\n",
            "Preparing to unpack .../azure-cli_2.32.0-1~bionic_all.deb ...\n",
            "Unpacking azure-cli (2.32.0-1~bionic) ...\n",
            "Setting up azure-cli (2.32.0-1~bionic) ...\n"
          ]
        }
      ],
      "source": [
        "!curl -sL https://aka.ms/InstallAzureCLIDeb | bash"
      ]
    },
    {
      "cell_type": "code",
      "source": [
        "!az --version"
      ],
      "metadata": {
        "id": "xtiAcEZha7-E",
        "outputId": "cc941130-8204-4407-ca12-ae31d1cdf972",
        "colab": {
          "base_uri": "https://localhost:8080/"
        }
      },
      "execution_count": 2,
      "outputs": [
        {
          "output_type": "stream",
          "name": "stdout",
          "text": [
            "azure-cli                         2.32.0\n",
            "\n",
            "core                              2.32.0\n",
            "telemetry                          1.0.6\n",
            "\n",
            "Dependencies:\n",
            "msal                              1.16.0\n",
            "azure-mgmt-resource               20.0.0\n",
            "\n",
            "Python location '/opt/az/bin/python3'\n",
            "Extensions directory '/root/.azure/cliextensions'\n",
            "\n",
            "Python (Linux) 3.6.10 (default, Dec 31 2021, 08:08:33) \n",
            "[GCC 7.5.0]\n",
            "\n",
            "Legal docs and information: aka.ms/AzureCliLegal\n",
            "\n",
            "\n",
            "Your CLI is up-to-date.\n",
            "\n",
            "\u001b[0mPlease let us know how we are doing: \u001b[96mhttps://aka.ms/azureclihats\u001b[0m\n",
            "\u001b[0mand let us know if you're interested in trying out our newest features: \u001b[96mhttps://aka.ms/CLIUXstudy\u001b[0m\n"
          ]
        }
      ]
    },
    {
      "cell_type": "markdown",
      "source": [
        "Configure Azure CLI"
      ],
      "metadata": {
        "id": "u2QFOtMPISjk"
      }
    },
    {
      "cell_type": "code",
      "source": [
        "# Once signed in, you can run Azure commands with the Azure CLI to work with resources in your subscription.\n",
        "!az login"
      ],
      "metadata": {
        "id": "BOcDObrObgco",
        "outputId": "48b9a314-1978-468f-8933-06e6fc7807db",
        "colab": {
          "base_uri": "https://localhost:8080/"
        }
      },
      "execution_count": 3,
      "outputs": [
        {
          "output_type": "stream",
          "name": "stdout",
          "text": [
            "\u001b[93mTo sign in, use a web browser to open the page https://microsoft.com/devicelogin and enter the code SHYMZC977 to authenticate.\u001b[0m\n",
            "[\n",
            "  {\n",
            "    \"cloudName\": \"AzureCloud\",\n",
            "    \"homeTenantId\": \"a37c2367-cf18-441f-93e5-85d7db0d493d\",\n",
            "    \"id\": \"0d87db7a-f64d-41d7-8e34-039a0ab61c86\",\n",
            "    \"isDefault\": true,\n",
            "    \"managedByTenants\": [],\n",
            "    \"name\": \"Azure for Students\",\n",
            "    \"state\": \"Enabled\",\n",
            "    \"tenantId\": \"a37c2367-cf18-441f-93e5-85d7db0d493d\",\n",
            "    \"user\": {\n",
            "      \"name\": \"fernando.nietoms@udlap.mx\",\n",
            "      \"type\": \"user\"\n",
            "    }\n",
            "  }\n",
            "]\n"
          ]
        }
      ]
    },
    {
      "cell_type": "markdown",
      "source": [
        "Install ngrok"
      ],
      "metadata": {
        "id": "8lEK4J3tNyxK"
      }
    },
    {
      "cell_type": "code",
      "source": [
        "!curl -O https://bin.equinox.io/c/4VmDzA7iaHb/ngrok-stable-linux-amd64.zip\n",
        "!unzip ngrok-stable-linux-amd64.zip"
      ],
      "metadata": {
        "id": "inInkNtgNxwU",
        "outputId": "0ce0f639-d247-4434-9ac4-2fc1c17994ab",
        "colab": {
          "base_uri": "https://localhost:8080/"
        }
      },
      "execution_count": 4,
      "outputs": [
        {
          "output_type": "stream",
          "name": "stdout",
          "text": [
            "  % Total    % Received % Xferd  Average Speed   Time    Time     Time  Current\n",
            "                                 Dload  Upload   Total   Spent    Left  Speed\n",
            "100 13.1M  100 13.1M    0     0  4848k      0  0:00:02  0:00:02 --:--:-- 4846k\n",
            "Archive:  ngrok-stable-linux-amd64.zip\n",
            "  inflating: ngrok                   \n"
          ]
        }
      ]
    },
    {
      "cell_type": "markdown",
      "source": [
        "Config ngrok with your own authtoken (see https://ngrok.com)"
      ],
      "metadata": {
        "id": "zJV_khjVPfcR"
      }
    },
    {
      "cell_type": "code",
      "source": [
        "NGROK_AUTHTOKEN = '24GSYptG9MKKyTuGfv0HKuHEspv_4saGBjMkwHWx8CBoBmZtG'"
      ],
      "metadata": {
        "id": "TeBlNkPqQ8oV"
      },
      "execution_count": 5,
      "outputs": []
    },
    {
      "cell_type": "code",
      "source": [
        "!./ngrok authtoken $NGROK_AUTHTOKEN"
      ],
      "metadata": {
        "id": "ALCUazqZOgJP",
        "outputId": "d94def2b-5de3-4981-a0aa-4728b93d4f9d",
        "colab": {
          "base_uri": "https://localhost:8080/"
        }
      },
      "execution_count": 6,
      "outputs": [
        {
          "output_type": "stream",
          "name": "stdout",
          "text": [
            "Authtoken saved to configuration file: /root/.ngrok2/ngrok.yml\n"
          ]
        }
      ]
    },
    {
      "cell_type": "markdown",
      "source": [
        "# Clone the Sample"
      ],
      "metadata": {
        "id": "nfMRsROcIaxz"
      }
    },
    {
      "cell_type": "markdown",
      "source": [
        "Clone the sample repository (https://github.com/Azure-Samples/python-docs-hello-world)"
      ],
      "metadata": {
        "id": "6rTjbqjDSmDn"
      }
    },
    {
      "cell_type": "code",
      "source": [
        "!git clone https://github.com/Azure-Samples/python-docs-hello-world"
      ],
      "metadata": {
        "id": "JzVRBPTlbnzZ",
        "outputId": "b8f59948-f57e-4fab-db45-335d3d6b17e1",
        "colab": {
          "base_uri": "https://localhost:8080/"
        }
      },
      "execution_count": 7,
      "outputs": [
        {
          "output_type": "stream",
          "name": "stdout",
          "text": [
            "Cloning into 'python-docs-hello-world'...\n",
            "remote: Enumerating objects: 75, done.\u001b[K\n",
            "remote: Total 75 (delta 0), reused 0 (delta 0), pack-reused 75\u001b[K\n",
            "Unpacking objects: 100% (75/75), done.\n"
          ]
        }
      ]
    },
    {
      "cell_type": "markdown",
      "source": [
        "Install python dependencies"
      ],
      "metadata": {
        "id": "Am4wq3OvTbTF"
      }
    },
    {
      "cell_type": "code",
      "source": [
        "%cd python-docs-hello-world"
      ],
      "metadata": {
        "id": "KQqe8ttqb9-9",
        "outputId": "01624369-48dc-422d-951c-d9aea66ee183",
        "colab": {
          "base_uri": "https://localhost:8080/"
        }
      },
      "execution_count": 8,
      "outputs": [
        {
          "output_type": "stream",
          "name": "stdout",
          "text": [
            "/content/python-docs-hello-world\n"
          ]
        }
      ]
    },
    {
      "cell_type": "code",
      "source": [
        "!pip install -r requirements.txt"
      ],
      "metadata": {
        "id": "PNQSqWIscM-e",
        "outputId": "9271daf0-80cd-4493-fe16-d57878a214c9",
        "colab": {
          "base_uri": "https://localhost:8080/"
        }
      },
      "execution_count": 9,
      "outputs": [
        {
          "output_type": "stream",
          "name": "stdout",
          "text": [
            "Collecting Flask<=1.1.2,>=1.0\n",
            "  Downloading Flask-1.1.2-py2.py3-none-any.whl (94 kB)\n",
            "\u001b[?25l\r\u001b[K     |███▌                            | 10 kB 18.7 MB/s eta 0:00:01\r\u001b[K     |███████                         | 20 kB 14.0 MB/s eta 0:00:01\r\u001b[K     |██████████▍                     | 30 kB 9.4 MB/s eta 0:00:01\r\u001b[K     |█████████████▉                  | 40 kB 8.3 MB/s eta 0:00:01\r\u001b[K     |█████████████████▎              | 51 kB 4.4 MB/s eta 0:00:01\r\u001b[K     |████████████████████▉           | 61 kB 4.6 MB/s eta 0:00:01\r\u001b[K     |████████████████████████▎       | 71 kB 4.5 MB/s eta 0:00:01\r\u001b[K     |███████████████████████████▊    | 81 kB 4.5 MB/s eta 0:00:01\r\u001b[K     |███████████████████████████████▏| 92 kB 5.0 MB/s eta 0:00:01\r\u001b[K     |████████████████████████████████| 94 kB 1.9 MB/s \n",
            "\u001b[?25hRequirement already satisfied: Werkzeug>=0.15 in /usr/local/lib/python3.7/dist-packages (from Flask<=1.1.2,>=1.0->-r requirements.txt (line 1)) (1.0.1)\n",
            "Requirement already satisfied: itsdangerous>=0.24 in /usr/local/lib/python3.7/dist-packages (from Flask<=1.1.2,>=1.0->-r requirements.txt (line 1)) (1.1.0)\n",
            "Requirement already satisfied: Jinja2>=2.10.1 in /usr/local/lib/python3.7/dist-packages (from Flask<=1.1.2,>=1.0->-r requirements.txt (line 1)) (2.11.3)\n",
            "Requirement already satisfied: click>=5.1 in /usr/local/lib/python3.7/dist-packages (from Flask<=1.1.2,>=1.0->-r requirements.txt (line 1)) (7.1.2)\n",
            "Requirement already satisfied: MarkupSafe>=0.23 in /usr/local/lib/python3.7/dist-packages (from Jinja2>=2.10.1->Flask<=1.1.2,>=1.0->-r requirements.txt (line 1)) (2.0.1)\n",
            "Installing collected packages: Flask\n",
            "  Attempting uninstall: Flask\n",
            "    Found existing installation: Flask 1.1.4\n",
            "    Uninstalling Flask-1.1.4:\n",
            "      Successfully uninstalled Flask-1.1.4\n",
            "Successfully installed Flask-1.1.2\n"
          ]
        }
      ]
    },
    {
      "cell_type": "code",
      "source": [
        "# This helps to run the sample in colab\n",
        "!pip install flask-ngrok"
      ],
      "metadata": {
        "id": "1IMvDexXcuFH",
        "outputId": "7d10a91f-65b6-4bd3-be50-7ed13fabf733",
        "colab": {
          "base_uri": "https://localhost:8080/"
        }
      },
      "execution_count": 10,
      "outputs": [
        {
          "output_type": "stream",
          "name": "stdout",
          "text": [
            "Collecting flask-ngrok\n",
            "  Downloading flask_ngrok-0.0.25-py3-none-any.whl (3.1 kB)\n",
            "Requirement already satisfied: Flask>=0.8 in /usr/local/lib/python3.7/dist-packages (from flask-ngrok) (1.1.2)\n",
            "Requirement already satisfied: requests in /usr/local/lib/python3.7/dist-packages (from flask-ngrok) (2.23.0)\n",
            "Requirement already satisfied: click>=5.1 in /usr/local/lib/python3.7/dist-packages (from Flask>=0.8->flask-ngrok) (7.1.2)\n",
            "Requirement already satisfied: Werkzeug>=0.15 in /usr/local/lib/python3.7/dist-packages (from Flask>=0.8->flask-ngrok) (1.0.1)\n",
            "Requirement already satisfied: Jinja2>=2.10.1 in /usr/local/lib/python3.7/dist-packages (from Flask>=0.8->flask-ngrok) (2.11.3)\n",
            "Requirement already satisfied: itsdangerous>=0.24 in /usr/local/lib/python3.7/dist-packages (from Flask>=0.8->flask-ngrok) (1.1.0)\n",
            "Requirement already satisfied: MarkupSafe>=0.23 in /usr/local/lib/python3.7/dist-packages (from Jinja2>=2.10.1->Flask>=0.8->flask-ngrok) (2.0.1)\n",
            "Requirement already satisfied: certifi>=2017.4.17 in /usr/local/lib/python3.7/dist-packages (from requests->flask-ngrok) (2021.10.8)\n",
            "Requirement already satisfied: urllib3!=1.25.0,!=1.25.1,<1.26,>=1.21.1 in /usr/local/lib/python3.7/dist-packages (from requests->flask-ngrok) (1.24.3)\n",
            "Requirement already satisfied: idna<3,>=2.5 in /usr/local/lib/python3.7/dist-packages (from requests->flask-ngrok) (2.10)\n",
            "Requirement already satisfied: chardet<4,>=3.0.2 in /usr/local/lib/python3.7/dist-packages (from requests->flask-ngrok) (3.0.4)\n",
            "Installing collected packages: flask-ngrok\n",
            "Successfully installed flask-ngrok-0.0.25\n"
          ]
        }
      ]
    },
    {
      "cell_type": "markdown",
      "source": [
        "# Run the Sample"
      ],
      "metadata": {
        "id": "GY_o9286Tl-V"
      }
    },
    {
      "cell_type": "markdown",
      "source": [
        "Sample file (`app.py`) content\n",
        "\n",
        "```python\n",
        "from flask import Flask\n",
        "app = Flask(__name__)\n",
        "\n",
        "@app.route(\"/\")\n",
        "def hello():\n",
        "    return \"Hello, Cloud!\"\n",
        "```"
      ],
      "metadata": {
        "id": "FRy62QlraUJk"
      }
    },
    {
      "cell_type": "markdown",
      "source": [
        "Load and execute sample in colab. \n",
        "\n",
        "> Follow the ngrok URL to see the output (e.g., http://7023-35-227-55-73.ngrok.io)"
      ],
      "metadata": {
        "id": "ERBxaV7WUMqP"
      }
    },
    {
      "cell_type": "code",
      "source": [
        "# Load sample\n",
        "with open('app.py') as sample:\n",
        "    exec( sample.read() )\n",
        "\n",
        "# Config sample for running in colab\n",
        "from flask_ngrok import run_with_ngrok\n",
        "run_with_ngrok(app)\n",
        "app.run()    "
      ],
      "metadata": {
        "id": "e0npVe5EOM-Z",
        "outputId": "97dd361c-3518-433b-ef8b-fb34be306631",
        "colab": {
          "base_uri": "https://localhost:8080/"
        }
      },
      "execution_count": 11,
      "outputs": [
        {
          "output_type": "stream",
          "name": "stdout",
          "text": [
            " * Serving Flask app \"__main__\" (lazy loading)\n",
            " * Environment: production\n",
            "\u001b[31m   WARNING: This is a development server. Do not use it in a production deployment.\u001b[0m\n",
            "\u001b[2m   Use a production WSGI server instead.\u001b[0m\n",
            " * Debug mode: off\n"
          ]
        },
        {
          "output_type": "stream",
          "name": "stderr",
          "text": [
            " * Running on http://127.0.0.1:5000/ (Press CTRL+C to quit)\n"
          ]
        },
        {
          "output_type": "stream",
          "name": "stdout",
          "text": [
            " * Running on http://6115-35-194-188-139.ngrok.io\n",
            " * Traffic stats available on http://127.0.0.1:4040\n"
          ]
        }
      ]
    },
    {
      "cell_type": "markdown",
      "source": [
        "🤚 **Stop the previous cell before continuing**\n",
        "\n"
      ],
      "metadata": {
        "id": "j3sHtxjMf1oW"
      }
    },
    {
      "cell_type": "markdown",
      "source": [
        "# Deploy the sample"
      ],
      "metadata": {
        "id": "SFW9V5lqWeR2"
      }
    },
    {
      "cell_type": "markdown",
      "source": [
        "Define a unique `APP_NAME`. This will be part of your app URL (e.g. `http://APP_NAME.azurewebsites.net`)\n"
      ],
      "metadata": {
        "id": "AFJT3BkfXU3V"
      }
    },
    {
      "cell_type": "code",
      "source": [
        "APP_NAME = 'mysamplepythonazureappservice'"
      ],
      "metadata": {
        "id": "_gr7LLMcW_TA"
      },
      "execution_count": 12,
      "outputs": []
    },
    {
      "cell_type": "markdown",
      "source": [
        "Deploy the sample"
      ],
      "metadata": {
        "id": "8Wzm7G_YYqhe"
      }
    },
    {
      "cell_type": "code",
      "source": [
        "!az webapp up --sku F1 --name $APP_NAME"
      ],
      "metadata": {
        "id": "6MXauaHUkAvi",
        "outputId": "cf0f8cc7-5490-4290-e8d5-d21ac15bbfc7",
        "colab": {
          "base_uri": "https://localhost:8080/"
        }
      },
      "execution_count": 13,
      "outputs": [
        {
          "output_type": "stream",
          "name": "stdout",
          "text": [
            "\u001b[93mThe webapp 'mysamplepythonazureappservice' doesn't exist\u001b[0m\n",
            "\u001b[93mCreating Resource group 'fernando.nietoms_rg_7030' ...\u001b[0m\n",
            "\u001b[93mResource group creation complete\u001b[0m\n",
            "\u001b[93mCreating AppServicePlan 'fernando.nietoms_asp_2337' ...\u001b[0m\n",
            "\u001b[93mResource provider 'Microsoft.Web' used by this operation is not registered. We are registering for you.\u001b[0m\n",
            "\u001b[93mRegistration succeeded.\u001b[0m\n",
            "\u001b[93mCreating webapp 'mysamplepythonazureappservice' ...\u001b[0m\n",
            "\u001b[K\u001b[93mConfiguring default logging for the app, if not already enabled\u001b[0m\n",
            "\u001b[93mCreating zip with contents of dir /content/python-docs-hello-world ...\u001b[0m\n",
            "\u001b[93mGetting scm site credentials for zip deployment\u001b[0m\n",
            "\u001b[93mStarting zip deployment. This operation can take a while to complete ...\u001b[0m\n",
            "\u001b[93mDeployment endpoint responded with status code 202\u001b[0m\n",
            "\u001b[93mYou can launch the app at http://mysamplepythonazureappservice.azurewebsites.net\u001b[0m\n",
            "{\n",
            "  \"URL\": \"http://mysamplepythonazureappservice.azurewebsites.net\",\n",
            "  \"appserviceplan\": \"fernando.nietoms_asp_2337\",\n",
            "  \"location\": \"southcentralus\",\n",
            "  \"name\": \"mysamplepythonazureappservice\",\n",
            "  \"os\": \"Linux\",\n",
            "  \"resourcegroup\": \"fernando.nietoms_rg_7030\",\n",
            "  \"runtime_version\": \"python|3.7\",\n",
            "  \"runtime_version_detected\": \"-\",\n",
            "  \"sku\": \"FREE\",\n",
            "  \"src_path\": \"//content//python-docs-hello-world\"\n",
            "}\n"
          ]
        }
      ]
    },
    {
      "cell_type": "markdown",
      "source": [
        "Test the app\n",
        "\n",
        "> The first connection takes some time because of the resources allocation"
      ],
      "metadata": {
        "id": "HmMwVx3yZLuc"
      }
    },
    {
      "cell_type": "code",
      "source": [
        "print('http://' + APP_NAME + '.azurewebsites.net')"
      ],
      "metadata": {
        "id": "tx3OjTTGZSsK",
        "outputId": "40ce663e-88ec-4464-89d7-50efb3e671d0",
        "colab": {
          "base_uri": "https://localhost:8080/"
        }
      },
      "execution_count": 14,
      "outputs": [
        {
          "output_type": "stream",
          "name": "stdout",
          "text": [
            "http://mysamplepythonazureappservice.azurewebsites.net\n"
          ]
        }
      ]
    },
    {
      "cell_type": "markdown",
      "source": [
        "Modify the `app.py` file (double click in the file icon and save). Then, redeploy"
      ],
      "metadata": {
        "id": "YuW_wSXoZpfs"
      }
    },
    {
      "cell_type": "code",
      "source": [
        "!az webapp up"
      ],
      "metadata": {
        "id": "5QhwSa3jkeg_"
      },
      "execution_count": null,
      "outputs": []
    },
    {
      "cell_type": "markdown",
      "source": [
        "Test again"
      ],
      "metadata": {
        "id": "7vaXHh5uiQW0"
      }
    },
    {
      "cell_type": "code",
      "source": [
        "print('http://' + APP_NAME + '.azurewebsites.net')"
      ],
      "metadata": {
        "id": "fia43a1UiPBt"
      },
      "execution_count": null,
      "outputs": []
    },
    {
      "cell_type": "markdown",
      "source": [
        "Check logs"
      ],
      "metadata": {
        "id": "nALLBu0EZ2xh"
      }
    },
    {
      "cell_type": "code",
      "source": [
        "!az webapp log tail"
      ],
      "metadata": {
        "id": "6WY68oEjmwRn"
      },
      "execution_count": null,
      "outputs": []
    },
    {
      "cell_type": "markdown",
      "source": [
        "🤚 **Stop the previous cell before continuing**"
      ],
      "metadata": {
        "id": "IaEds3PxinF0"
      }
    },
    {
      "cell_type": "markdown",
      "source": [
        "Clean up resources (takes some time)"
      ],
      "metadata": {
        "id": "WGWUCNhwZ_Oe"
      }
    },
    {
      "cell_type": "code",
      "source": [
        "!az group delete --yes"
      ],
      "metadata": {
        "id": "ieQ-EC9xoJKk"
      },
      "execution_count": null,
      "outputs": []
    }
  ]
}